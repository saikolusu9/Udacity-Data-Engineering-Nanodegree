{
 "cells": [
  {
   "cell_type": "code",
   "execution_count": 1,
   "id": "3c06dc73",
   "metadata": {},
   "outputs": [
    {
     "data": {
      "application/vnd.jupyter.widget-view+json": {
       "model_id": "846a836efa9b412ca9eeaa89123c6ee5",
       "version_major": 2,
       "version_minor": 0
      },
      "text/plain": [
       "VBox()"
      ]
     },
     "metadata": {},
     "output_type": "display_data"
    },
    {
     "name": "stdout",
     "output_type": "stream",
     "text": [
      "Starting Spark application\n"
     ]
    },
    {
     "data": {
      "text/html": [
       "<table>\n",
       "<tr><th>ID</th><th>YARN Application ID</th><th>Kind</th><th>State</th><th>Spark UI</th><th>Driver log</th><th>Current session?</th></tr><tr><td>0</td><td>application_1633831269192_0001</td><td>pyspark</td><td>idle</td><td><a target=\"_blank\" href=\"http://ip-10-0-0-157.us-west-2.compute.internal:20888/proxy/application_1633831269192_0001/\">Link</a></td><td><a target=\"_blank\" href=\"http://ip-10-0-0-168.us-west-2.compute.internal:8042/node/containerlogs/container_1633831269192_0001_01_000001/livy\">Link</a></td><td>✔</td></tr></table>"
      ],
      "text/plain": [
       "<IPython.core.display.HTML object>"
      ]
     },
     "metadata": {},
     "output_type": "display_data"
    },
    {
     "data": {
      "application/vnd.jupyter.widget-view+json": {
       "model_id": "",
       "version_major": 2,
       "version_minor": 0
      },
      "text/plain": [
       "FloatProgress(value=0.0, bar_style='info', description='Progress:', layout=Layout(height='25px', width='50%'),…"
      ]
     },
     "metadata": {},
     "output_type": "display_data"
    },
    {
     "name": "stdout",
     "output_type": "stream",
     "text": [
      "SparkSession available as 'spark'.\n"
     ]
    },
    {
     "data": {
      "application/vnd.jupyter.widget-view+json": {
       "model_id": "",
       "version_major": 2,
       "version_minor": 0
      },
      "text/plain": [
       "FloatProgress(value=0.0, bar_style='info', description='Progress:', layout=Layout(height='25px', width='50%'),…"
      ]
     },
     "metadata": {},
     "output_type": "display_data"
    }
   ],
   "source": [
    "import os\n",
    "import configparser\n",
    "from pathlib import Path\n",
    "from pyspark.sql import SparkSession"
   ]
  },
  {
   "cell_type": "code",
   "execution_count": 2,
   "id": "a370cf9b",
   "metadata": {},
   "outputs": [
    {
     "data": {
      "application/vnd.jupyter.widget-view+json": {
       "model_id": "2e6b5a51c6244e60a517c0af3171e004",
       "version_major": 2,
       "version_minor": 0
      },
      "text/plain": [
       "VBox()"
      ]
     },
     "metadata": {},
     "output_type": "display_data"
    },
    {
     "data": {
      "application/vnd.jupyter.widget-view+json": {
       "model_id": "",
       "version_major": 2,
       "version_minor": 0
      },
      "text/plain": [
       "FloatProgress(value=0.0, bar_style='info', description='Progress:', layout=Layout(height='25px', width='50%'),…"
      ]
     },
     "metadata": {},
     "output_type": "display_data"
    }
   ],
   "source": [
    "# Create our Spark Session via a SparkSession builder\n",
    "spark = SparkSession.builder.appName(\"accident analysis\").getOrCreate()"
   ]
  },
  {
   "cell_type": "markdown",
   "id": "b561a0be",
   "metadata": {},
   "source": [
    "## Data Quality check on transformed load to S3 bucket"
   ]
  },
  {
   "cell_type": "markdown",
   "id": "7dab0df5",
   "metadata": {},
   "source": [
    "### 1. Data schema of every dimensional table matches data model"
   ]
  },
  {
   "cell_type": "code",
   "execution_count": 3,
   "id": "7035b817",
   "metadata": {},
   "outputs": [
    {
     "data": {
      "application/vnd.jupyter.widget-view+json": {
       "model_id": "9e3b33e89e80427b8f46b1323c94b1b0",
       "version_major": 2,
       "version_minor": 0
      },
      "text/plain": [
       "VBox()"
      ]
     },
     "metadata": {},
     "output_type": "display_data"
    },
    {
     "data": {
      "application/vnd.jupyter.widget-view+json": {
       "model_id": "",
       "version_major": 2,
       "version_minor": 0
      },
      "text/plain": [
       "FloatProgress(value=0.0, bar_style='info', description='Progress:', layout=Layout(height='25px', width='50%'),…"
      ]
     },
     "metadata": {},
     "output_type": "display_data"
    }
   ],
   "source": [
    "S3_BUCKET_SOURCE_PATH = \"s3://spark-project-kolusu/input/\"\n",
    "S3_BUCKET_DEST_PATH = \"s3://spark-project-kolusu/output/\""
   ]
  },
  {
   "cell_type": "code",
   "execution_count": 4,
   "id": "c6e23faa",
   "metadata": {},
   "outputs": [
    {
     "data": {
      "application/vnd.jupyter.widget-view+json": {
       "model_id": "bfcbe3ab18df4b1f8013632f590fce30",
       "version_major": 2,
       "version_minor": 0
      },
      "text/plain": [
       "VBox()"
      ]
     },
     "metadata": {},
     "output_type": "display_data"
    },
    {
     "data": {
      "application/vnd.jupyter.widget-view+json": {
       "model_id": "",
       "version_major": 2,
       "version_minor": 0
      },
      "text/plain": [
       "FloatProgress(value=0.0, bar_style='info', description='Progress:', layout=Layout(height='25px', width='50%'),…"
      ]
     },
     "metadata": {},
     "output_type": "display_data"
    },
    {
     "name": "stdout",
     "output_type": "stream",
     "text": [
      "Table: dim_Crashes\n",
      "root\n",
      " |-- COLLISION_ID: long (nullable = true)\n",
      " |-- BOROUGH: string (nullable = true)\n",
      " |-- STREET_NAME: string (nullable = true)\n",
      " |-- CONTRIBUTING_FACTOR_VEHICLE: string (nullable = true)\n",
      " |-- NUMBER_PEOPLE_INJURED: long (nullable = true)\n",
      " |-- NUMBER_PEOPLE_KILLED: long (nullable = true)\n",
      " |-- year: integer (nullable = true)\n",
      " |-- month: integer (nullable = true)\n",
      " |-- day: integer (nullable = true)\n",
      "\n",
      "Table: dim_Vehicles\n",
      "root\n",
      " |-- COLLISION_ID: long (nullable = true)\n",
      " |-- VEHICLE_ID: long (nullable = true)\n",
      " |-- STATE_REGISTRATION: string (nullable = true)\n",
      " |-- VEHICLE_TYPE: string (nullable = true)\n",
      " |-- VEHICLE_MAKE: string (nullable = true)\n",
      " |-- VEHICLE_MODEL: string (nullable = true)\n",
      " |-- VEHICLE_YEAR: long (nullable = true)\n",
      " |-- DRIVER_SEX: string (nullable = true)\n",
      " |-- POINT_OF_IMPACT: string (nullable = true)\n",
      " |-- VEHICLE_DAMAGE: string (nullable = true)\n",
      " |-- year: integer (nullable = true)\n",
      " |-- month: integer (nullable = true)\n",
      " |-- day: integer (nullable = true)\n",
      "\n",
      "Table: dim_Persons\n",
      "root\n",
      " |-- COLLISION_ID: long (nullable = true)\n",
      " |-- PERSON_ID: long (nullable = true)\n",
      " |-- PERSON_TYPE: string (nullable = true)\n",
      " |-- PERSON_INJURY: string (nullable = true)\n",
      " |-- PERSON_AGE: long (nullable = true)\n",
      " |-- PERSON_SEX: string (nullable = true)\n",
      " |-- year: integer (nullable = true)\n",
      " |-- month: integer (nullable = true)\n",
      " |-- day: integer (nullable = true)\n",
      "\n",
      "Table: dim_Time\n",
      "root\n",
      " |-- COLLISION_ID: long (nullable = true)\n",
      " |-- CRASH_DATE_TIME: timestamp (nullable = true)\n",
      " |-- YEAR: integer (nullable = true)\n",
      " |-- MONTH: integer (nullable = true)\n",
      " |-- DAY: integer (nullable = true)\n",
      " |-- HOUR: integer (nullable = true)\n",
      " |-- WEEKOFYEAR: integer (nullable = true)"
     ]
    }
   ],
   "source": [
    "modules = [\"Crashes\",\"Vehicles\",\"Persons\",\"Time\"]\n",
    "for module in modules:\n",
    "    dest_path = S3_BUCKET_DEST_PATH + \"dim_\" +module + \"/\"\n",
    "    df = spark.read.parquet(dest_path)\n",
    "    print(\"Table: \" + dest_path.split('/')[-2])\n",
    "    schema = df.printSchema()"
   ]
  },
  {
   "cell_type": "markdown",
   "id": "bf52c685",
   "metadata": {},
   "source": [
    "### 2. No empty table after running ETL data pipeline"
   ]
  },
  {
   "cell_type": "code",
   "execution_count": 5,
   "id": "55826cd9",
   "metadata": {},
   "outputs": [
    {
     "data": {
      "application/vnd.jupyter.widget-view+json": {
       "model_id": "7d2917ca14a44c6aa3883e04ab269e85",
       "version_major": 2,
       "version_minor": 0
      },
      "text/plain": [
       "VBox()"
      ]
     },
     "metadata": {},
     "output_type": "display_data"
    },
    {
     "data": {
      "application/vnd.jupyter.widget-view+json": {
       "model_id": "",
       "version_major": 2,
       "version_minor": 0
      },
      "text/plain": [
       "FloatProgress(value=0.0, bar_style='info', description='Progress:', layout=Layout(height='25px', width='50%'),…"
      ]
     },
     "metadata": {},
     "output_type": "display_data"
    },
    {
     "name": "stdout",
     "output_type": "stream",
     "text": [
      "Table: dim_Crashes is not empty: total 1827986 records.\n",
      "Table: dim_Vehicles is not empty: total 3664982 records.\n",
      "Table: dim_Persons is not empty: total 4453244 records.\n",
      "Table: dim_Time is not empty: total 1827986 records."
     ]
    }
   ],
   "source": [
    "modules = [\"Crashes\",\"Vehicles\",\"Persons\",\"Time\"]\n",
    "for module in modules:\n",
    "    dest_path = S3_BUCKET_DEST_PATH + \"dim_\" +module + \"/\"\n",
    "    df = spark.read.parquet(dest_path)\n",
    "    record_num = df.count()\n",
    "    if record_num <= 0:\n",
    "        raise ValueError(\"This table is empty!\")\n",
    "    else:\n",
    "        print(\"Table: \" + dest_path.split('/')[-2] + f\" is not empty: total {record_num} records.\")"
   ]
  },
  {
   "cell_type": "markdown",
   "id": "01f6afa1",
   "metadata": {},
   "source": [
    "### 3. Source/Dest count checks to ensure completeness"
   ]
  },
  {
   "cell_type": "code",
   "execution_count": 6,
   "id": "4ab7fd0c",
   "metadata": {},
   "outputs": [
    {
     "data": {
      "application/vnd.jupyter.widget-view+json": {
       "model_id": "9d131f05b5a543a5a2e4f91f474f5672",
       "version_major": 2,
       "version_minor": 0
      },
      "text/plain": [
       "VBox()"
      ]
     },
     "metadata": {},
     "output_type": "display_data"
    },
    {
     "data": {
      "application/vnd.jupyter.widget-view+json": {
       "model_id": "",
       "version_major": 2,
       "version_minor": 0
      },
      "text/plain": [
       "FloatProgress(value=0.0, bar_style='info', description='Progress:', layout=Layout(height='25px', width='50%'),…"
      ]
     },
     "metadata": {},
     "output_type": "display_data"
    }
   ],
   "source": [
    "def get_src_dest_table_count(src_path, dest_path):\n",
    "    df_src = spark.read.csv(src_path, header=True)\n",
    "    df_src = df_src.filter(df_src.collision_id.isNotNull())\n",
    "    df_dest = spark.read.parquet(dest_path)\n",
    "    return df_src.count(), df_dest.count()"
   ]
  },
  {
   "cell_type": "code",
   "execution_count": 7,
   "id": "47561a92",
   "metadata": {},
   "outputs": [
    {
     "data": {
      "application/vnd.jupyter.widget-view+json": {
       "model_id": "76f02adeea994e60b5235eae36fbb8f0",
       "version_major": 2,
       "version_minor": 0
      },
      "text/plain": [
       "VBox()"
      ]
     },
     "metadata": {},
     "output_type": "display_data"
    },
    {
     "data": {
      "application/vnd.jupyter.widget-view+json": {
       "model_id": "",
       "version_major": 2,
       "version_minor": 0
      },
      "text/plain": [
       "FloatProgress(value=0.0, bar_style='info', description='Progress:', layout=Layout(height='25px', width='50%'),…"
      ]
     },
     "metadata": {},
     "output_type": "display_data"
    },
    {
     "name": "stdout",
     "output_type": "stream",
     "text": [
      "Crashes: The source table record count is 1827986 and destination table record count is 1827986\n",
      "Vehicles: The source table record count is 3664982 and destination table record count is 3664982\n",
      "Persons: The source table record count is 4453244 and destination table record count is 4453244"
     ]
    }
   ],
   "source": [
    "modules = [\"Crashes\",\"Vehicles\",\"Persons\"]\n",
    "for module in modules:\n",
    "    src_path = S3_BUCKET_SOURCE_PATH + module + \"/\"\n",
    "    dest_path = S3_BUCKET_DEST_PATH + \"dim_\" +module + \"/\"\n",
    "    df_src_count, df_dest_count = get_src_dest_table_count(src_path, dest_path)                    \n",
    "    print(\"%s: The source table record count is %d and destination table record count is %d\" %(module,df_src_count, df_dest_count))"
   ]
  },
  {
   "cell_type": "markdown",
   "id": "774edde1",
   "metadata": {},
   "source": [
    "## Data Quality check on data in Redshift"
   ]
  },
  {
   "cell_type": "code",
   "execution_count": 14,
   "id": "ec8a4e43",
   "metadata": {},
   "outputs": [
    {
     "data": {
      "application/vnd.jupyter.widget-view+json": {
       "model_id": "32a828d5219344eab4d4f79d6be2482a",
       "version_major": 2,
       "version_minor": 0
      },
      "text/plain": [
       "VBox()"
      ]
     },
     "metadata": {},
     "output_type": "display_data"
    },
    {
     "data": {
      "application/vnd.jupyter.widget-view+json": {
       "model_id": "",
       "version_major": 2,
       "version_minor": 0
      },
      "text/plain": [
       "FloatProgress(value=0.0, bar_style='info', description='Progress:', layout=Layout(height='25px', width='50%'),…"
      ]
     },
     "metadata": {},
     "output_type": "display_data"
    }
   ],
   "source": [
    "#sc.install_pypi_package(\"psycopg2\")"
   ]
  },
  {
   "cell_type": "code",
   "execution_count": 9,
   "id": "20eaf2ff",
   "metadata": {},
   "outputs": [
    {
     "data": {
      "application/vnd.jupyter.widget-view+json": {
       "model_id": "fa5d92cd974d467a8c16967624b86b39",
       "version_major": 2,
       "version_minor": 0
      },
      "text/plain": [
       "VBox()"
      ]
     },
     "metadata": {},
     "output_type": "display_data"
    },
    {
     "data": {
      "application/vnd.jupyter.widget-view+json": {
       "model_id": "",
       "version_major": 2,
       "version_minor": 0
      },
      "text/plain": [
       "FloatProgress(value=0.0, bar_style='info', description='Progress:', layout=Layout(height='25px', width='50%'),…"
      ]
     },
     "metadata": {},
     "output_type": "display_data"
    },
    {
     "name": "stdout",
     "output_type": "stream",
     "text": [
      "/tmp/1633832864411-0/local/lib64/python3.6/site-packages/psycopg2/__init__.py:144: UserWarning: The psycopg2 wheel package will be renamed from release 2.8; in order to keep installing from binary please use \"pip install psycopg2-binary\" instead. For details see: <http://initd.org/psycopg/docs/install.html#binary-install-from-pypi>.\n",
      "  \"\"\")"
     ]
    }
   ],
   "source": [
    "import psycopg2"
   ]
  },
  {
   "cell_type": "code",
   "execution_count": 10,
   "id": "1142072b",
   "metadata": {},
   "outputs": [
    {
     "data": {
      "application/vnd.jupyter.widget-view+json": {
       "model_id": "5873810b088b426596046ae0241a7816",
       "version_major": 2,
       "version_minor": 0
      },
      "text/plain": [
       "VBox()"
      ]
     },
     "metadata": {},
     "output_type": "display_data"
    },
    {
     "data": {
      "application/vnd.jupyter.widget-view+json": {
       "model_id": "",
       "version_major": 2,
       "version_minor": 0
      },
      "text/plain": [
       "FloatProgress(value=0.0, bar_style='info', description='Progress:', layout=Layout(height='25px', width='50%'),…"
      ]
     },
     "metadata": {},
     "output_type": "display_data"
    }
   ],
   "source": [
    "host = 'redshift-cluster-collision.cnufhcq0yteu.us-west-2.redshift.amazonaws.com'\n",
    "dbname = 'dev'\n",
    "user = 'awsuser'\n",
    "db_password = 'June-1989'\n",
    "db_port = 5439"
   ]
  },
  {
   "cell_type": "code",
   "execution_count": 11,
   "id": "70b62d8d",
   "metadata": {},
   "outputs": [
    {
     "data": {
      "application/vnd.jupyter.widget-view+json": {
       "model_id": "de56e6dcd4a4478ba59b33ffb0482c32",
       "version_major": 2,
       "version_minor": 0
      },
      "text/plain": [
       "VBox()"
      ]
     },
     "metadata": {},
     "output_type": "display_data"
    },
    {
     "data": {
      "application/vnd.jupyter.widget-view+json": {
       "model_id": "",
       "version_major": 2,
       "version_minor": 0
      },
      "text/plain": [
       "FloatProgress(value=0.0, bar_style='info', description='Progress:', layout=Layout(height='25px', width='50%'),…"
      ]
     },
     "metadata": {},
     "output_type": "display_data"
    }
   ],
   "source": [
    "conn = psycopg2.connect(\"host={} dbname={} user={} password={} port={}\" \\\n",
    "            .format(host, dbname, user, db_password, db_port))\n",
    "cur = conn.cursor()"
   ]
  },
  {
   "cell_type": "code",
   "execution_count": 12,
   "id": "669b902c",
   "metadata": {},
   "outputs": [
    {
     "data": {
      "application/vnd.jupyter.widget-view+json": {
       "model_id": "4b346b2d5d154e58a35554226f9f91e8",
       "version_major": 2,
       "version_minor": 0
      },
      "text/plain": [
       "VBox()"
      ]
     },
     "metadata": {},
     "output_type": "display_data"
    },
    {
     "data": {
      "application/vnd.jupyter.widget-view+json": {
       "model_id": "",
       "version_major": 2,
       "version_minor": 0
      },
      "text/plain": [
       "FloatProgress(value=0.0, bar_style='info', description='Progress:', layout=Layout(height='25px', width='50%'),…"
      ]
     },
     "metadata": {},
     "output_type": "display_data"
    }
   ],
   "source": [
    "def get_table_count(tablename):\n",
    "    query = (\"Select count(*) from %s\" %(tablename))\n",
    "    cur.execute(query)\n",
    "    result = cur.fetchone()\n",
    "    print (\"The number of records in table %s is %d\" %(tablename, result[0]))"
   ]
  },
  {
   "cell_type": "code",
   "execution_count": 13,
   "id": "abd1d4ab",
   "metadata": {},
   "outputs": [
    {
     "data": {
      "application/vnd.jupyter.widget-view+json": {
       "model_id": "d93a329aa3314c34ae75f19372f57bc3",
       "version_major": 2,
       "version_minor": 0
      },
      "text/plain": [
       "VBox()"
      ]
     },
     "metadata": {},
     "output_type": "display_data"
    },
    {
     "data": {
      "application/vnd.jupyter.widget-view+json": {
       "model_id": "",
       "version_major": 2,
       "version_minor": 0
      },
      "text/plain": [
       "FloatProgress(value=0.0, bar_style='info', description='Progress:', layout=Layout(height='25px', width='50%'),…"
      ]
     },
     "metadata": {},
     "output_type": "display_data"
    },
    {
     "name": "stdout",
     "output_type": "stream",
     "text": [
      "The number of records in table dim_collisions is 1827986\n",
      "The number of records in table dim_vehicles is 3664982\n",
      "The number of records in table dim_persons is 4453244\n",
      "The number of records in table dim_time is 1827986\n",
      "The number of records in table fact_crashes is 9395799"
     ]
    }
   ],
   "source": [
    "get_table_count(\"dim_collisions\")\n",
    "get_table_count(\"dim_vehicles\")\n",
    "get_table_count(\"dim_persons\")\n",
    "get_table_count(\"dim_time\")\n",
    "get_table_count(\"fact_crashes\")"
   ]
  },
  {
   "cell_type": "markdown",
   "id": "ad92ae11",
   "metadata": {},
   "source": [
    "##### We can see that the number of records in each Redshift table match with its corresponding source table"
   ]
  },
  {
   "cell_type": "code",
   "execution_count": null,
   "id": "ba4a607e",
   "metadata": {},
   "outputs": [],
   "source": []
  }
 ],
 "metadata": {
  "kernelspec": {
   "display_name": "PySpark",
   "language": "",
   "name": "pysparkkernel"
  },
  "language_info": {
   "codemirror_mode": {
    "name": "python",
    "version": 2
   },
   "mimetype": "text/x-python",
   "name": "pyspark",
   "pygments_lexer": "python2"
  }
 },
 "nbformat": 4,
 "nbformat_minor": 5
}
